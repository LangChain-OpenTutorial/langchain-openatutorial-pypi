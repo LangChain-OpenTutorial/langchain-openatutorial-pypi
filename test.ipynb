{
 "cells": [
  {
   "cell_type": "code",
   "execution_count": 11,
   "metadata": {},
   "outputs": [],
   "source": [
    "from langchain_opentutorial.tools import tavily\n",
    "from langchain_opentutorial.document_loaders import pdf"
   ]
  },
  {
   "cell_type": "code",
   "execution_count": 12,
   "metadata": {},
   "outputs": [
    {
     "name": "stdout",
     "output_type": "stream",
     "text": [
      "Requirement already satisfied: pdf2image in c:\\users\\baem1n\\miniconda3\\envs\\ai-essential\\lib\\site-packages (1.17.0)\n",
      "Requirement already satisfied: pillow in c:\\users\\baem1n\\miniconda3\\envs\\ai-essential\\lib\\site-packages (from pdf2image) (11.0.0)\n"
     ]
    }
   ],
   "source": [
    "!pip install"
   ]
  },
  {
   "cell_type": "code",
   "execution_count": null,
   "metadata": {},
   "outputs": [],
   "source": [
    "!pip install pdf2image olefile tavily-python feedparser"
   ]
  }
 ],
 "metadata": {
  "kernelspec": {
   "display_name": "langchain_opentutorial_py312",
   "language": "python",
   "name": "python3"
  },
  "language_info": {
   "codemirror_mode": {
    "name": "ipython",
    "version": 3
   },
   "file_extension": ".py",
   "mimetype": "text/x-python",
   "name": "python",
   "nbconvert_exporter": "python",
   "pygments_lexer": "ipython3",
   "version": "3.10.16"
  }
 },
 "nbformat": 4,
 "nbformat_minor": 2
}
